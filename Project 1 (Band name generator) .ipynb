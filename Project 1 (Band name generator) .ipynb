{
 "cells": [
  {
   "cell_type": "code",
   "execution_count": 1,
   "metadata": {},
   "outputs": [
    {
     "name": "stdout",
     "output_type": "stream",
     "text": [
      "Welcome to the band name genarator.\n",
      "Which city did you grow up in?\n",
      "Chittagong\n",
      "What is your pet name?\n",
      "tomy\n",
      "Your name of the Band could be Chittagong tomy\n"
     ]
    }
   ],
   "source": [
    "#1. Create a greeting for your program.\n",
    "print (\"Welcome to the band name genarator.\")\n",
    "#2. Ask the user for the city that they grew up in.\n",
    "city = input (\"Which city did you grow up in?\\n\")\n",
    "#3. Ask the user for the name of a pet.\n",
    "pet = input (\"What is your pet name?\\n\")\n",
    "#4. Combine the name of their city and pet and show them their band name.\n",
    "print (\"Your name of the Band could be \"+ city +\" \"+pet)"
   ]
  },
  {
   "cell_type": "code",
   "execution_count": null,
   "metadata": {},
   "outputs": [],
   "source": []
  }
 ],
 "metadata": {
  "kernelspec": {
   "display_name": "Python 3",
   "language": "python",
   "name": "python3"
  },
  "language_info": {
   "codemirror_mode": {
    "name": "ipython",
    "version": 3
   },
   "file_extension": ".py",
   "mimetype": "text/x-python",
   "name": "python",
   "nbconvert_exporter": "python",
   "pygments_lexer": "ipython3",
   "version": "3.7.3"
  }
 },
 "nbformat": 4,
 "nbformat_minor": 2
}
